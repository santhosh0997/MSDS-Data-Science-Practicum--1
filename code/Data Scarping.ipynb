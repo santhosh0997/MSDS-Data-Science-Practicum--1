{
 "cells": [
  {
   "cell_type": "markdown",
   "metadata": {},
   "source": [
    "# Data collection:"
   ]
  },
  {
   "cell_type": "code",
   "execution_count": null,
   "metadata": {
    "colab": {
     "base_uri": "https://localhost:8080/"
    },
    "id": "VcO2BnaYZ8uc",
    "outputId": "728462a3-648f-41ad-84c4-9635501fe597"
   },
   "outputs": [
    {
     "name": "stdout",
     "output_type": "stream",
     "text": [
      "Requirement already satisfied: google-search-results in /usr/local/lib/python3.12/dist-packages (2.4.2)\n",
      "Requirement already satisfied: requests in /usr/local/lib/python3.12/dist-packages (from google-search-results) (2.32.4)\n",
      "Requirement already satisfied: charset_normalizer<4,>=2 in /usr/local/lib/python3.12/dist-packages (from requests->google-search-results) (3.4.3)\n",
      "Requirement already satisfied: idna<4,>=2.5 in /usr/local/lib/python3.12/dist-packages (from requests->google-search-results) (3.10)\n",
      "Requirement already satisfied: urllib3<3,>=1.21.1 in /usr/local/lib/python3.12/dist-packages (from requests->google-search-results) (2.5.0)\n",
      "Requirement already satisfied: certifi>=2017.4.17 in /usr/local/lib/python3.12/dist-packages (from requests->google-search-results) (2025.8.3)\n"
     ]
    }
   ],
   "source": [
    "!pip install google-search-results\n"
   ]
  },
  {
   "cell_type": "markdown",
   "metadata": {},
   "source": [
    "Collected data using SerpApi. https://serpapi.com/"
   ]
  },
  {
   "cell_type": "code",
   "execution_count": null,
   "metadata": {
    "id": "bypE-5l6yJk5"
   },
   "outputs": [],
   "source": [
    "from serpapi import GoogleSearch\n",
    "\n",
    "\n",
    "Hotels = []\n",
    "for i in range(0,101,20):\n",
    "  params = {\n",
    "  \"engine\": \"google_maps\",\n",
    "  \"start\": i,\n",
    "  \"q\": \"Dubai Hotels\",\n",
    "  \"ll\": \"@40.7455096,-74.0083012,14z\",\n",
    "  \"api_key\": \"ad944e728e7267dbfed3623b663cd23686ac14f1a9a9ccf42b1ca1947c4270ed\"\n",
    "}\n",
    "  search = GoogleSearch(params)\n",
    "  results_Hotels = search.get_dict()\n",
    "  Hotels.append(results_Hotels)"
   ]
  },
  {
   "cell_type": "markdown",
   "metadata": {},
   "source": [
    "collected Hotels data from google map in Dubai."
   ]
  },
  {
   "cell_type": "code",
   "execution_count": null,
   "metadata": {
    "colab": {
     "base_uri": "https://localhost:8080/",
     "height": 17
    },
    "id": "6Lvm-IRffJw3",
    "outputId": "bd2a47ed-bf39-4881-c313-04952f5a2300"
   },
   "outputs": [
    {
     "data": {
      "application/javascript": [
       "\n",
       "    async function download(id, filename, size) {\n",
       "      if (!google.colab.kernel.accessAllowed) {\n",
       "        return;\n",
       "      }\n",
       "      const div = document.createElement('div');\n",
       "      const label = document.createElement('label');\n",
       "      label.textContent = `Downloading \"${filename}\": `;\n",
       "      div.appendChild(label);\n",
       "      const progress = document.createElement('progress');\n",
       "      progress.max = size;\n",
       "      div.appendChild(progress);\n",
       "      document.body.appendChild(div);\n",
       "\n",
       "      const buffers = [];\n",
       "      let downloaded = 0;\n",
       "\n",
       "      const channel = await google.colab.kernel.comms.open(id);\n",
       "      // Send a message to notify the kernel that we're ready.\n",
       "      channel.send({})\n",
       "\n",
       "      for await (const message of channel.messages) {\n",
       "        // Send a message to notify the kernel that we're ready.\n",
       "        channel.send({})\n",
       "        if (message.buffers) {\n",
       "          for (const buffer of message.buffers) {\n",
       "            buffers.push(buffer);\n",
       "            downloaded += buffer.byteLength;\n",
       "            progress.value = downloaded;\n",
       "          }\n",
       "        }\n",
       "      }\n",
       "      const blob = new Blob(buffers, {type: 'application/binary'});\n",
       "      const a = document.createElement('a');\n",
       "      a.href = window.URL.createObjectURL(blob);\n",
       "      a.download = filename;\n",
       "      div.appendChild(a);\n",
       "      a.click();\n",
       "      div.remove();\n",
       "    }\n",
       "  "
      ],
      "text/plain": [
       "<IPython.core.display.Javascript object>"
      ]
     },
     "metadata": {},
     "output_type": "display_data"
    },
    {
     "data": {
      "application/javascript": [
       "download(\"download_712ddf65-0f01-4cec-af84-41b06b16d2cc\", \"hotel_reviews.json\", 259978)"
      ],
      "text/plain": [
       "<IPython.core.display.Javascript object>"
      ]
     },
     "metadata": {},
     "output_type": "display_data"
    }
   ],
   "source": [
    "import json\n",
    "from google.colab import files\n",
    "\n",
    "# Save dict as JSON file\n",
    "with open(\"hotel_reviews.json\", \"w\") as f:\n",
    "    json.dump(Hotels, f, indent=4)\n",
    "\n",
    "# Download the file\n",
    "files.download(\"hotel_reviews.json\")\n"
   ]
  },
  {
   "cell_type": "markdown",
   "metadata": {},
   "source": [
    "Using those hotel names, we will extract the placeId for search engine to scrap reviews."
   ]
  },
  {
   "cell_type": "code",
   "execution_count": null,
   "metadata": {
    "colab": {
     "base_uri": "https://localhost:8080/"
    },
    "id": "Gia1NgQqfdPj",
    "outputId": "8fc4eae4-c6c1-496b-981e-0e66216d85de"
   },
   "outputs": [
    {
     "name": "stdout",
     "output_type": "stream",
     "text": [
      "['ChIJoYrk4C5oXz4Rz8zfVMtxSpU', 'ChIJowBFSu91Xz4RLS9kcNQWxE8', 'ChIJo22Ljw1rXz4RkciYKT0agT8', 'ChIJbTHIgIEVXz4RIPXU6nFB2Gs', 'ChIJyer95yhoXz4Rwl9l67jIHT4', 'ChIJVeSGVytDXz4R3tA72dWz_WE', 'ChIJAauOmZhdXz4RkJgo1j-UjyQ', 'ChIJyXyHcABqXz4R48N4-tR2CgM', 'ChIJp5gj9o1CXz4Rde77RZWQvKs', 'ChIJp8w6rTtDXz4RyfTyXTjXAU8', 'ChIJr7ycDMxcXz4R-ZfzIBvQjaY', 'ChIJo7DaJI1pXz4RScW1ssHBr1o', 'ChIJ4bjdQYNCXz4RUN7vxDANHsU', 'ChIJMZZ9A5lDXz4RsJmswWvSeFs', 'ChIJM7ZvJ4lCXz4RzogZiHR7Dn0', 'ChIJjcCRoiJDXz4R_bNfEdvAPVM', 'ChIJURh7NutCXz4Remv0bkTdQCw', 'ChIJAauOmZhdXz4RKs_nETzgBDc', 'ChIJvSwT-ZJCXz4RkKTQzvKWOmU', 'ChIJR6olL3BdXz4RhPxuIANrT-U', 'ChIJBWNFnphdXz4REguXwMzcqUQ', 'ChIJBWNFnphdXz4RzFTpwCSdnz4', 'ChIJMRLSra5pXz4RsYLSAgxjZvw', 'ChIJWW01m8hbXz4R8IpbVL6w9ZQ', 'ChIJj-fWdABdXz4RXQD5gORu3hI', 'ChIJUzfYgMhcXz4R__--nS9dH2s', 'ChIJ0QItrPJbXz4RfvBQdD-SXOU', 'ChIJxYvl8otCXz4Rb7WNVpc6p_0', 'ChIJEUdJHJ5dXz4RFE06gPYGxmg', 'ChIJm5AF9LxDXz4R-x__BNLedrM', 'ChIJ_SkQ_C9aXz4RxM5m6whBis8', 'ChIJh7WXy85cXz4RWN-OwLu4aF0', 'ChIJZzajh3pdXz4RsKsbRDxWSAA', 'ChIJQ74bznJDXz4RlRgBxQnDTMU', 'ChIJ2xbL6RRDXz4R8T6HmqSm2zs', 'ChIJj1zQG1ddXz4RjBbgoO51XH8', 'ChIJ1bUfJa1cXz4RLkgUTfw1D7g', 'ChIJ2QgO4BFpXz4RnSx4PqN3kTM', 'ChIJDY_zCRxDXz4Rbj3y9zq6gHE', 'ChIJgSJhoRJdXz4R1HC1f5ekbIg', 'ChIJfyM6BElDXz4RLRCbRbU4lK8', 'ChIJfwRrk_xCXz4RkNXGpnwHqCw', 'ChIJIfOoqihoXz4R8H1aFezOwkM', 'ChIJi7tuCYZCXz4R2rYvoPNkai4', 'ChIJjd5MOMxcXz4RZnr4egRApeU', 'ChIJO-Tfz_kVXz4RxWfAUpmseC4', 'ChIJK46ot85cXz4RZpID-ckk0g0', 'ChIJG7a8ao9DXz4RfyAtwDT98cQ', 'ChIJWWXPPG9DXz4RapuZyD1M6CM', 'ChIJP2zTUkRDXz4R7U0DyQ6kXyo', 'ChIJu_K0OKZDXz4RpxmxgvOi9MU', 'ChIJMZjbMb9cXz4Rruafrt_2dAE', 'ChIJAauOmZhdXz4RkJgo1j-UjyQ', 'ChIJ98sHVCZDXz4RHMjrk9dGl3c', 'ChIJPTIqFUNrXz4RfNYA7kZt-Ng', 'ChIJ9c0WNcoUXz4RmIIVjEG9uqo', 'ChIJsb2JbBhDXz4RRU1ylfXjnEQ', 'ChIJyXyHcABqXz4R48N4-tR2CgM', 'ChIJ-QLMbNNrXz4RrgsSJK45ae4', 'ChIJSe3-e1FrXz4Rm5MbMEP2imE', 'ChIJwbQ5oCZtXz4RsUs0HrHkINE', 'ChIJmxpW081rXz4Rt71h-yL9eMU', 'ChIJIzpmNe9CXz4R_Qd-pAk-WVA', 'ChIJOf9hnttpXz4RbxmW3KLuR1w', 'ChIJG2nFedFpXz4RG-87HC86PFQ', 'ChIJiccit5pdXz4RkHXyJFFFP5o', 'ChIJ9Zl71foOXz4RVO6jTsp3PtM', 'ChIJ_QXyYU4TXz4Rw7Ystdqb9zQ', 'ChIJmTlmrehCXz4RsYq-x3YIUkI', 'ChIJdd8SeO1pXz4R4BUPbTuiWGc', 'ChIJXSrHSqdsXz4RxjWYx0gL220', 'ChIJw_J-geNDXz4RUMo7R11R0XY', 'ChIJ1xuRM5JDXz4RoYSoJO04rO8', 'ChIJ3bLZek1FXz4RVy4l67Dq248', 'ChIJDxhm4rFBXz4Rtcif4ec6hBM', 'ChIJ-cpyzABDXz4Rr45m1nUOGgk', 'ChIJSXyphl1rXz4ReDAUpLHSWnQ', 'ChIJLZhqIWZrXz4R2NDMyEXqHEc', 'ChIJgTiUAwFDXz4RLvNeAjLBi5c', 'ChIJ-ZHMSMxpXz4Re-3SPh2Qsp0', 'ChIJ65Bf-nZrXz4RQ5XUgJ9yIQ0', 'ChIJsZE9Q1MTXz4RoLD0s7AWNt8', 'ChIJobMv6VRBXz4ROY0E7e4_fMk', 'ChIJz_0DPwRCXz4RvKDO5Jwhztw', 'ChIJp5gj9o1CXz4Rde77RZWQvKs', 'ChIJAQAAAAxsXz4RPsQrZiBy1Ts', 'ChIJv9lubL9dXz4RRuMteyB0Xz4', 'ChIJI2DBjy1rXz4RNMB3Vz6-KeI', 'ChIJWZVWoI5CXz4RnBlaz1gMeH4', 'ChIJnca1bD4TXz4RTY0znnrG_2k', 'ChIJ97-rXyZoXz4RLCWJBpv72qw', 'ChIJw1abCmdrXz4R1iZyBgEKtE4', 'ChIJ97-rXyZoXz4RLCWJBpv72qw', 'ChIJA1mw3INCXz4Rz5b8gz5Ls_0', 'ChIJy8SDBI1CXz4RTalWPBQmRJs', 'ChIJKy3xAdlpXz4RSmqrIh62-3k', 'ChIJV35jyiNoXz4RHkTSRs5cCIs', 'ChIJgfwbz1ATXz4RZNLnVz-FaQo', 'ChIJ0ycnl-FDXz4RmBKDJPr00S4', 'ChIJt-FjuVcTXz4RNrJCgQbutrQ', 'ChIJAauOmZhdXz4Rtc24f8bJM1c', 'ChIJp8w6rTtDXz4RyfTyXTjXAU8', 'ChIJPfH4K0VrXz4RY5bDAIlbTqk', 'ChIJH_5Uuo5uXz4RWzIKu9QVmxk', 'ChIJM9Pc_1BpXz4RqWQy1MNvDtY', 'ChIJP5hBslMTXz4R6quwLwN0ffY', 'ChIJBcgiH55jXz4RV7FGXQ0vulo', 'ChIJP-9NbQ5CXz4R0Wg66uejtYk', 'ChIJZ3m7dGldXz4R5iqDa4Q96UE', 'ChIJ4d3W5VFdXz4RkrcC4WcymQM', 'ChIJA_NA9cZdXz4RQJ9DXIxe6FM', 'ChIJSXYcoMARXz4RqVW8u3cCY_8']\n"
     ]
    }
   ],
   "source": [
    "# len(Hotels[0]['local_results'])\n",
    "\n",
    "lst_place_id = []\n",
    "\n",
    "for i in range(len(Hotels)):\n",
    "  for j in range(len(Hotels[i]['local_results'])):\n",
    "    lst_place_id.append(Hotels[i]['local_results'][j]['place_id'])\n",
    "\n",
    "print(lst_place_id)"
   ]
  },
  {
   "cell_type": "code",
   "execution_count": null,
   "metadata": {
    "colab": {
     "base_uri": "https://localhost:8080/",
     "height": 36
    },
    "id": "rSw3fcMUgr08",
    "outputId": "34baed90-0765-4e14-f942-82962c4e700f"
   },
   "outputs": [
    {
     "data": {
      "application/vnd.google.colaboratory.intrinsic+json": {
       "type": "string"
      },
      "text/plain": [
       "'ChIJoYrk4C5oXz4Rz8zfVMtxSpU'"
      ]
     },
     "execution_count": 49,
     "metadata": {},
     "output_type": "execute_result"
    }
   ],
   "source": [
    "Hotels[0]['local_results'][0]['place_id']"
   ]
  },
  {
   "cell_type": "code",
   "execution_count": null,
   "metadata": {
    "colab": {
     "base_uri": "https://localhost:8080/"
    },
    "id": "8XLWjmtLeCLa",
    "outputId": "b4617484-3ed5-4f1b-96c0-e3edfebae3d2"
   },
   "outputs": [
    {
     "name": "stdout",
     "output_type": "stream",
     "text": [
      "0\n",
      "20\n",
      "40\n",
      "60\n",
      "80\n",
      "100\n"
     ]
    }
   ],
   "source": [
    "for i in range(0,101,20):\n",
    "  print(i)"
   ]
  },
  {
   "cell_type": "code",
   "execution_count": null,
   "metadata": {
    "colab": {
     "base_uri": "https://localhost:8080/",
     "height": 36
    },
    "id": "r8kAz4wGa2FZ",
    "outputId": "021282fe-fb5d-47cc-f274-d2b4f7c9c870"
   },
   "outputs": [
    {
     "data": {
      "application/vnd.google.colaboratory.intrinsic+json": {
       "type": "string"
      },
      "text/plain": [
       "'ChIJBWNFnphdXz4REguXwMzcqUQ'"
      ]
     },
     "execution_count": 39,
     "metadata": {},
     "output_type": "execute_result"
    }
   ],
   "source": [
    "results_Hotels['local_results'][0]['place_id']\n",
    "\n",
    "# lst_place_id = []\n",
    "\n",
    "# for i in range(len(results_Hotels['local_results'])):\n",
    "#   lst_place_id.append(results_Hotels['local_results'][i]['place_id'])"
   ]
  },
  {
   "cell_type": "code",
   "execution_count": null,
   "metadata": {
    "colab": {
     "base_uri": "https://localhost:8080/"
    },
    "id": "le12XDTGbnij",
    "outputId": "24a7339a-82e5-4931-e0bb-913c2e98ae0b"
   },
   "outputs": [
    {
     "data": {
      "text/plain": [
       "112"
      ]
     },
     "execution_count": 52,
     "metadata": {},
     "output_type": "execute_result"
    }
   ],
   "source": [
    "len(lst_place_id)"
   ]
  },
  {
   "cell_type": "markdown",
   "metadata": {},
   "source": [
    "We got 112 different hotels."
   ]
  },
  {
   "cell_type": "markdown",
   "metadata": {},
   "source": [
    "### collecting reviews and saving them:"
   ]
  },
  {
   "cell_type": "markdown",
   "metadata": {},
   "source": [
    "It will use place_id as a search to get reviews from that particular hotel."
   ]
  },
  {
   "cell_type": "code",
   "execution_count": null,
   "metadata": {
    "id": "yY_mcYRvbsCm"
   },
   "outputs": [],
   "source": [
    "from serpapi import GoogleSearch\n",
    "\n",
    "\n",
    "\n",
    "Review_lst = []\n",
    "\n",
    "for i in range(len(lst_place_id)):\n",
    "  params = {\n",
    "  \"engine\": \"google_maps_reviews\",\n",
    "  \"place_id\": lst_place_id[i],\n",
    "  \"hl\": \"en\",\n",
    "  \"api_key\": \"ad944e728e7267dbfed3623b663cd23686ac14f1a9a9ccf42b1ca1947c4270ed\"\n",
    "}\n",
    "  search = GoogleSearch(params)\n",
    "  results = search.get_dict()\n",
    "  Review_lst.append(results)\n"
   ]
  },
  {
   "cell_type": "code",
   "execution_count": null,
   "metadata": {
    "colab": {
     "base_uri": "https://localhost:8080/",
     "height": 17
    },
    "id": "sihelwxGpk_b",
    "outputId": "94f472b7-9dc4-4311-d554-9fd66dad68fd"
   },
   "outputs": [
    {
     "data": {
      "application/javascript": [
       "\n",
       "    async function download(id, filename, size) {\n",
       "      if (!google.colab.kernel.accessAllowed) {\n",
       "        return;\n",
       "      }\n",
       "      const div = document.createElement('div');\n",
       "      const label = document.createElement('label');\n",
       "      label.textContent = `Downloading \"${filename}\": `;\n",
       "      div.appendChild(label);\n",
       "      const progress = document.createElement('progress');\n",
       "      progress.max = size;\n",
       "      div.appendChild(progress);\n",
       "      document.body.appendChild(div);\n",
       "\n",
       "      const buffers = [];\n",
       "      let downloaded = 0;\n",
       "\n",
       "      const channel = await google.colab.kernel.comms.open(id);\n",
       "      // Send a message to notify the kernel that we're ready.\n",
       "      channel.send({})\n",
       "\n",
       "      for await (const message of channel.messages) {\n",
       "        // Send a message to notify the kernel that we're ready.\n",
       "        channel.send({})\n",
       "        if (message.buffers) {\n",
       "          for (const buffer of message.buffers) {\n",
       "            buffers.push(buffer);\n",
       "            downloaded += buffer.byteLength;\n",
       "            progress.value = downloaded;\n",
       "          }\n",
       "        }\n",
       "      }\n",
       "      const blob = new Blob(buffers, {type: 'application/binary'});\n",
       "      const a = document.createElement('a');\n",
       "      a.href = window.URL.createObjectURL(blob);\n",
       "      a.download = filename;\n",
       "      div.appendChild(a);\n",
       "      a.click();\n",
       "      div.remove();\n",
       "    }\n",
       "  "
      ],
      "text/plain": [
       "<IPython.core.display.Javascript object>"
      ]
     },
     "metadata": {},
     "output_type": "display_data"
    },
    {
     "data": {
      "application/javascript": [
       "download(\"download_6934f5dd-23a5-4ddd-af13-aee802861c2d\", \"hotel_reviews_maps.json\", 3236684)"
      ],
      "text/plain": [
       "<IPython.core.display.Javascript object>"
      ]
     },
     "metadata": {},
     "output_type": "display_data"
    }
   ],
   "source": [
    "import json\n",
    "from google.colab import files\n",
    "\n",
    "# Save dict as JSON file\n",
    "with open(\"hotel_reviews_maps.json\", \"w\") as f:\n",
    "    json.dump(Review_lst, f, indent=4)\n",
    "\n",
    "# Download the file\n",
    "files.download(\"hotel_reviews_maps.json\")\n"
   ]
  },
  {
   "cell_type": "code",
   "execution_count": null,
   "metadata": {
    "id": "qmJUin_Fb6bT"
   },
   "outputs": [],
   "source": [
    "# len(Review_lst[0]['snippet'])\n",
    "\n",
    "Final_G_Rev = []\n",
    "\n",
    "Review_lst[0]['reviews'][0]['snippet']\n",
    "\n",
    "for i in range(len(Review_lst)):\n",
    "\n",
    "  if 'reviews' in Review_lst[i]:\n",
    "    review = Review_lst[i]['reviews']\n",
    "\n",
    "    for j in range(len(Review_lst[i]['reviews'])):\n",
    "      if 'snippet' in review[j]:\n",
    "        Final_G_Rev.append(Review_lst[i]['reviews'][j]['snippet'])"
   ]
  },
  {
   "cell_type": "code",
   "execution_count": null,
   "metadata": {
    "colab": {
     "base_uri": "https://localhost:8080/"
    },
    "id": "eemjCOMkslrX",
    "outputId": "ea89a5bd-79df-4e70-8665-e9848fb39753"
   },
   "outputs": [
    {
     "data": {
      "text/plain": [
       "860"
      ]
     },
     "execution_count": 95,
     "metadata": {},
     "output_type": "execute_result"
    }
   ],
   "source": [
    "len(Final_G_Rev)"
   ]
  },
  {
   "cell_type": "code",
   "execution_count": null,
   "metadata": {
    "colab": {
     "base_uri": "https://localhost:8080/",
     "height": 17
    },
    "id": "pQOPVn1-sCV5",
    "outputId": "90e4b8b0-9948-49fb-c62a-585ffeec3b21"
   },
   "outputs": [
    {
     "data": {
      "application/javascript": [
       "\n",
       "    async function download(id, filename, size) {\n",
       "      if (!google.colab.kernel.accessAllowed) {\n",
       "        return;\n",
       "      }\n",
       "      const div = document.createElement('div');\n",
       "      const label = document.createElement('label');\n",
       "      label.textContent = `Downloading \"${filename}\": `;\n",
       "      div.appendChild(label);\n",
       "      const progress = document.createElement('progress');\n",
       "      progress.max = size;\n",
       "      div.appendChild(progress);\n",
       "      document.body.appendChild(div);\n",
       "\n",
       "      const buffers = [];\n",
       "      let downloaded = 0;\n",
       "\n",
       "      const channel = await google.colab.kernel.comms.open(id);\n",
       "      // Send a message to notify the kernel that we're ready.\n",
       "      channel.send({})\n",
       "\n",
       "      for await (const message of channel.messages) {\n",
       "        // Send a message to notify the kernel that we're ready.\n",
       "        channel.send({})\n",
       "        if (message.buffers) {\n",
       "          for (const buffer of message.buffers) {\n",
       "            buffers.push(buffer);\n",
       "            downloaded += buffer.byteLength;\n",
       "            progress.value = downloaded;\n",
       "          }\n",
       "        }\n",
       "      }\n",
       "      const blob = new Blob(buffers, {type: 'application/binary'});\n",
       "      const a = document.createElement('a');\n",
       "      a.href = window.URL.createObjectURL(blob);\n",
       "      a.download = filename;\n",
       "      div.appendChild(a);\n",
       "      a.click();\n",
       "      div.remove();\n",
       "    }\n",
       "  "
      ],
      "text/plain": [
       "<IPython.core.display.Javascript object>"
      ]
     },
     "metadata": {},
     "output_type": "display_data"
    },
    {
     "data": {
      "application/javascript": [
       "download(\"download_c59768e8-f4cc-47eb-8478-7939a3a64902\", \"Final_reviews.json\", 522168)"
      ],
      "text/plain": [
       "<IPython.core.display.Javascript object>"
      ]
     },
     "metadata": {},
     "output_type": "display_data"
    }
   ],
   "source": [
    "import json\n",
    "from google.colab import files\n",
    "\n",
    "# Save dict as JSON file\n",
    "with open(\"Final_reviews.json\", \"w\") as f:\n",
    "    json.dump(Final_G_Rev, f, indent=4)\n",
    "\n",
    "# Download the file\n",
    "files.download(\"Final_reviews.json\")"
   ]
  },
  {
   "cell_type": "code",
   "execution_count": null,
   "metadata": {
    "id": "qph03gNb49oS"
   },
   "outputs": [],
   "source": []
  }
 ],
 "metadata": {
  "colab": {
   "provenance": []
  },
  "kernelspec": {
   "display_name": "Python 3 (ipykernel)",
   "language": "python",
   "name": "python3"
  },
  "language_info": {
   "codemirror_mode": {
    "name": "ipython",
    "version": 3
   },
   "file_extension": ".py",
   "mimetype": "text/x-python",
   "name": "python",
   "nbconvert_exporter": "python",
   "pygments_lexer": "ipython3",
   "version": "3.11.5"
  }
 },
 "nbformat": 4,
 "nbformat_minor": 4
}
