{
 "cells": [
  {
   "cell_type": "markdown",
   "id": "ea02b449",
   "metadata": {
    "id": "ea02b449"
   },
   "source": [
    "## Loading the Data"
   ]
  },
  {
   "cell_type": "code",
   "execution_count": null,
   "id": "ed2247d9",
   "metadata": {
    "id": "ed2247d9"
   },
   "outputs": [],
   "source": [
    "import pandas as pd\n",
    "\n",
    "df_human = pd.read_csv(\"df_human.csv\")\n",
    "df_ai = pd.read_csv(\"df_ai.csv\")"
   ]
  },
  {
   "cell_type": "code",
   "execution_count": null,
   "id": "21eb1b25",
   "metadata": {
    "id": "21eb1b25",
    "outputId": "6963ab2f-daaf-4bc6-b7e9-b2f954c24f88"
   },
   "outputs": [
    {
     "data": {
      "text/plain": [
       "(205760, 3)"
      ]
     },
     "execution_count": 2,
     "metadata": {},
     "output_type": "execute_result"
    }
   ],
   "source": [
    "df_human.shape"
   ]
  },
  {
   "cell_type": "code",
   "execution_count": null,
   "id": "b2190d5d",
   "metadata": {
    "id": "b2190d5d",
    "outputId": "50e8eff8-e20c-41a1-ce90-bcfac571a80c"
   },
   "outputs": [
    {
     "data": {
      "text/plain": [
       "(205758, 3)"
      ]
     },
     "execution_count": 3,
     "metadata": {},
     "output_type": "execute_result"
    }
   ],
   "source": [
    "df_ai.shape"
   ]
  },
  {
   "cell_type": "markdown",
   "id": "62ee22a5",
   "metadata": {
    "id": "62ee22a5"
   },
   "source": [
    "##  Data Pre-Processing"
   ]
  },
  {
   "cell_type": "code",
   "execution_count": null,
   "id": "bf8ed30c",
   "metadata": {
    "id": "bf8ed30c"
   },
   "outputs": [],
   "source": [
    "import re\n",
    "import spacy\n",
    "from bs4 import BeautifulSoup\n",
    "from nltk.corpus import stopwords\n",
    "from tqdm import tqdm\n",
    "import pandas as pd\n",
    "\n",
    "# Load SpaCy model\n",
    "nlp = spacy.load(\"en_core_web_sm\", disable=[\"parser\", \"ner\"])\n",
    "stop_words = set(stopwords.words('english'))\n",
    "\n",
    "# Ensure tqdm works with pandas\n",
    "tqdm.pandas()\n",
    "\n",
    "def preprocess_text(text):\n",
    "    if not isinstance(text, str) or text.strip() == \"\":\n",
    "        return \"\"\n",
    "\n",
    "    # Remove HTML\n",
    "    text = BeautifulSoup(text, \"html.parser\").get_text()\n",
    "\n",
    "    # Lowercase\n",
    "    text = text.lower()\n",
    "\n",
    "    # Remove URLs and emails\n",
    "    text = re.sub(r\"http\\S+|www\\S+|https\\S+\", '', text)\n",
    "    text = re.sub(r'\\S+@\\S+', '', text)\n",
    "\n",
    "    # Remove special characters and numbers\n",
    "    text = re.sub(r'[^a-z\\s]', '', text)\n",
    "\n",
    "    return text"
   ]
  },
  {
   "cell_type": "code",
   "execution_count": null,
   "id": "9030f53d",
   "metadata": {
    "id": "9030f53d",
    "outputId": "2ca56280-690b-4863-bdb4-4a3aebe290a3",
    "scrolled": true
   },
   "outputs": [
    {
     "name": "stderr",
     "output_type": "stream",
     "text": [
      "  0%|                                                                             | 96/205760 [00:00<03:36, 951.37it/s]C:\\Users\\amans\\anaconda3\\lib\\site-packages\\bs4\\__init__.py:435: MarkupResemblesLocatorWarning: The input looks more like a filename than markup. You may want to open this file and pass the filehandle into Beautiful Soup.\n",
      "  warnings.warn(\n",
      "100%|████████████████████████████████████████████████████████████████████████| 205760/205760 [01:50<00:00, 1860.24it/s]\n"
     ]
    }
   ],
   "source": [
    "# Apply preprocessing first (removes HTML, URLs, etc.)\n",
    "df_human['preprocessed'] = df_human['text'].progress_apply(preprocess_text)"
   ]
  },
  {
   "cell_type": "code",
   "execution_count": null,
   "id": "487de0d2",
   "metadata": {
    "id": "487de0d2",
    "outputId": "4afe438d-9550-4938-d83a-bdd08b72ce28",
    "scrolled": true
   },
   "outputs": [
    {
     "name": "stderr",
     "output_type": "stream",
     "text": [
      " 89%|████████████████████████████████████████████████████████████████▎       | 183964/205758 [02:05<00:08, 2454.20it/s]C:\\Users\\amans\\anaconda3\\lib\\site-packages\\bs4\\__init__.py:435: MarkupResemblesLocatorWarning: The input looks more like a filename than markup. You may want to open this file and pass the filehandle into Beautiful Soup.\n",
      "  warnings.warn(\n",
      "100%|████████████████████████████████████████████████████████████████████████| 205758/205758 [02:15<00:00, 1517.21it/s]\n"
     ]
    }
   ],
   "source": [
    "df_ai['preprocessed'] = df_ai['generated'].progress_apply(preprocess_text)"
   ]
  },
  {
   "cell_type": "code",
   "execution_count": null,
   "id": "86865a21",
   "metadata": {
    "id": "86865a21"
   },
   "outputs": [],
   "source": [
    "\n",
    "def lemmatize_in_chunks(texts, batch_size=500, chunk_size=10000):\n",
    "    \"\"\"Process texts in small chunks to avoid MemoryError\"\"\"\n",
    "    results = []\n",
    "    for start in range(0, len(texts), chunk_size):\n",
    "        chunk = texts[start:start+chunk_size]\n",
    "        for doc in tqdm(nlp.pipe(chunk, batch_size=batch_size, disable=[\"parser\", \"ner\"]),\n",
    "                        total=len(chunk), desc=f\"Processing rows {start}-{start+len(chunk)}\"):\n",
    "            tokens = [token.lemma_ for token in doc if token.text not in stop_words]\n",
    "            results.append(\" \".join(tokens))\n",
    "    return results"
   ]
  },
  {
   "cell_type": "code",
   "execution_count": null,
   "id": "9132452a",
   "metadata": {
    "id": "9132452a",
    "outputId": "5656e443-a643-4f8b-a6da-b00129b307cf"
   },
   "outputs": [
    {
     "name": "stderr",
     "output_type": "stream",
     "text": [
      "100%|████████████████████████████████████████████████████████████████████████| 205760/205760 [3:11:44<00:00, 17.89it/s]\n",
      " 18%|█████████████▎                                                           | 37498/205758 [42:41<1:13:40, 38.06it/s]"
     ]
    }
   ],
   "source": [
    "df_human['clean_text'] = lemmatize_texts(df_human['preprocessed'].tolist())\n",
    "df_ai['clean_text'] = lemmatize_texts(df_ai['preprocessed'].tolist())\n",
    "\n",
    "# Drop temporary preprocessed column if desired\n",
    "df_human.drop(columns=['preprocessed'], inplace=True)\n",
    "df_ai.drop(columns=['preprocessed'], inplace=True)"
   ]
  },
  {
   "cell_type": "code",
   "execution_count": null,
   "id": "59890028",
   "metadata": {
    "id": "59890028"
   },
   "outputs": [],
   "source": [
    "df_human.to_csv(\"df_Human.csv\", index=False)\n",
    "df_ai.to_csv(\"df_ai.csv\", index=False)"
   ]
  },
  {
   "cell_type": "code",
   "execution_count": null,
   "id": "225cd65d",
   "metadata": {
    "id": "225cd65d"
   },
   "outputs": [],
   "source": [
    "df_human.to_csv(\"df_Human.csv\", index=False)"
   ]
  },
  {
   "cell_type": "code",
   "execution_count": null,
   "id": "47ec9113",
   "metadata": {
    "id": "47ec9113",
    "outputId": "4eda5810-01a0-4693-8d37-d01bdc97e961"
   },
   "outputs": [
    {
     "name": "stderr",
     "output_type": "stream",
     "text": [
      "Processing rows 0-10000: 100%|███████████████████████████████████████████████████| 10000/10000 [09:44<00:00, 17.12it/s]\n",
      "Processing rows 10000-20000: 100%|███████████████████████████████████████████████| 10000/10000 [12:27<00:00, 13.38it/s]\n",
      "Processing rows 20000-30000: 100%|███████████████████████████████████████████████| 10000/10000 [12:12<00:00, 13.65it/s]\n",
      "Processing rows 30000-40000: 100%|███████████████████████████████████████████████| 10000/10000 [13:24<00:00, 12.42it/s]\n",
      "Processing rows 40000-50000: 100%|███████████████████████████████████████████████| 10000/10000 [11:33<00:00, 14.42it/s]\n",
      "Processing rows 50000-60000: 100%|███████████████████████████████████████████████| 10000/10000 [10:19<00:00, 16.14it/s]\n",
      "Processing rows 60000-70000: 100%|███████████████████████████████████████████████| 10000/10000 [10:17<00:00, 16.19it/s]\n",
      "Processing rows 70000-80000: 100%|███████████████████████████████████████████████| 10000/10000 [10:05<00:00, 16.52it/s]\n",
      "Processing rows 80000-90000: 100%|███████████████████████████████████████████████| 10000/10000 [10:25<00:00, 15.98it/s]\n",
      "Processing rows 90000-100000: 100%|██████████████████████████████████████████████| 10000/10000 [10:24<00:00, 16.01it/s]\n",
      "Processing rows 100000-110000: 100%|█████████████████████████████████████████████| 10000/10000 [10:45<00:00, 15.49it/s]\n",
      "Processing rows 110000-120000: 100%|█████████████████████████████████████████████| 10000/10000 [10:29<00:00, 15.89it/s]\n",
      "Processing rows 120000-130000: 100%|█████████████████████████████████████████████| 10000/10000 [10:26<00:00, 15.97it/s]\n",
      "Processing rows 130000-140000: 100%|█████████████████████████████████████████████| 10000/10000 [10:26<00:00, 15.95it/s]\n",
      "Processing rows 140000-150000: 100%|█████████████████████████████████████████████| 10000/10000 [10:22<00:00, 16.08it/s]\n",
      "Processing rows 150000-160000: 100%|█████████████████████████████████████████████| 10000/10000 [10:27<00:00, 15.93it/s]\n",
      "Processing rows 160000-170000: 100%|█████████████████████████████████████████████| 10000/10000 [10:22<00:00, 16.07it/s]\n",
      "Processing rows 170000-180000: 100%|█████████████████████████████████████████████| 10000/10000 [10:25<00:00, 15.98it/s]\n",
      "Processing rows 180000-190000: 100%|█████████████████████████████████████████████| 10000/10000 [06:18<00:00, 26.45it/s]\n",
      "Processing rows 190000-200000: 100%|█████████████████████████████████████████████| 10000/10000 [05:53<00:00, 28.32it/s]\n",
      "Processing rows 200000-205758: 100%|███████████████████████████████████████████████| 5758/5758 [04:02<00:00, 23.71it/s]\n"
     ]
    }
   ],
   "source": [
    "df_ai['clean_text'] = lemmatize_in_chunks(df_ai['preprocessed'].tolist())"
   ]
  },
  {
   "cell_type": "code",
   "execution_count": null,
   "id": "f4f76c00",
   "metadata": {
    "id": "f4f76c00"
   },
   "outputs": [],
   "source": [
    "df_ai.to_csv(\"df_ai.csv\", index=False)"
   ]
  },
  {
   "cell_type": "code",
   "execution_count": null,
   "id": "108803d3",
   "metadata": {
    "id": "108803d3"
   },
   "outputs": [],
   "source": [
    "df_human = df_human.sample(n=100000, random_state=42)  # random_state for reproducibility\n",
    "df_human = df_human.reset_index(drop=True)\n",
    "\n",
    "df_ai = df_ai.sample(n=100000, random_state=42)  # random_state for reproducibility\n",
    "df_ai = df_human.reset_index(drop=True)"
   ]
  },
  {
   "cell_type": "code",
   "execution_count": null,
   "id": "98a36dc4",
   "metadata": {
    "id": "98a36dc4",
    "outputId": "5b0531d0-f506-402e-8546-6f0c86cebd26"
   },
   "outputs": [
    {
     "data": {
      "text/plain": [
       "(100000, 3)"
      ]
     },
     "execution_count": 3,
     "metadata": {},
     "output_type": "execute_result"
    }
   ],
   "source": [
    "df_human.shape"
   ]
  },
  {
   "cell_type": "code",
   "execution_count": null,
   "id": "8938fb57",
   "metadata": {
    "id": "8938fb57",
    "outputId": "c0c91634-7cd7-4730-b5cf-b236045c1c61"
   },
   "outputs": [
    {
     "data": {
      "text/plain": [
       "(100000, 3)"
      ]
     },
     "execution_count": 4,
     "metadata": {},
     "output_type": "execute_result"
    }
   ],
   "source": [
    "df_ai.shape"
   ]
  },
  {
   "cell_type": "code",
   "execution_count": null,
   "id": "96b4f0f8",
   "metadata": {
    "id": "96b4f0f8"
   },
   "outputs": [],
   "source": [
    "df_human[\"label\"] = 0\n",
    "df_ai[\"label\"] = 1"
   ]
  },
  {
   "cell_type": "code",
   "execution_count": null,
   "id": "2e971933",
   "metadata": {
    "id": "2e971933"
   },
   "outputs": [],
   "source": [
    "df_human.drop(['text', 'preprocessed'], axis=1, inplace=True)\n",
    "df_ai.drop(['text', 'preprocessed'], axis=1, inplace=True)"
   ]
  },
  {
   "cell_type": "code",
   "execution_count": null,
   "id": "48604bda",
   "metadata": {
    "id": "48604bda",
    "outputId": "1bf637e4-e098-426b-9494-014c2b673fc6"
   },
   "outputs": [
    {
     "data": {
      "text/plain": [
       "Index(['clean_text', 'label'], dtype='object')"
      ]
     },
     "execution_count": 9,
     "metadata": {},
     "output_type": "execute_result"
    }
   ],
   "source": [
    "df_human.columns"
   ]
  },
  {
   "cell_type": "code",
   "execution_count": null,
   "id": "855ec9b4",
   "metadata": {
    "id": "855ec9b4",
    "outputId": "31f5ace5-37af-4219-c3e1-1dd23a283f74"
   },
   "outputs": [
    {
     "data": {
      "text/plain": [
       "Index(['clean_text', 'label'], dtype='object')"
      ]
     },
     "execution_count": 10,
     "metadata": {},
     "output_type": "execute_result"
    }
   ],
   "source": [
    "df_ai.columns"
   ]
  },
  {
   "cell_type": "code",
   "execution_count": null,
   "id": "ebbfca7b",
   "metadata": {
    "id": "ebbfca7b",
    "outputId": "ff3280e6-c3c0-45ea-feac-bad504fd5ece"
   },
   "outputs": [
    {
     "data": {
      "text/plain": [
       "(200000, 2)"
      ]
     },
     "execution_count": 11,
     "metadata": {},
     "output_type": "execute_result"
    }
   ],
   "source": [
    "df_human = df_human.rename(columns={\"clean_text\": \"text\"})\n",
    "df_ai = df_ai.rename(columns={\"clean_text\": \"text\"})\n",
    "\n",
    "# Merge dataframes\n",
    "df = pd.concat([df_human, df_ai], ignore_index=True)\n",
    "\n",
    "# Shuffle rows\n",
    "df = df.sample(frac=1, random_state=42).reset_index(drop=True)\n",
    "\n",
    "df.shape"
   ]
  },
  {
   "cell_type": "code",
   "execution_count": null,
   "id": "fcb4706f",
   "metadata": {
    "id": "fcb4706f",
    "outputId": "89fb690a-5076-4fd8-fc1c-61e5a4a41a8a"
   },
   "outputs": [
    {
     "data": {
      "text/html": [
       "<div>\n",
       "<style scoped>\n",
       "    .dataframe tbody tr th:only-of-type {\n",
       "        vertical-align: middle;\n",
       "    }\n",
       "\n",
       "    .dataframe tbody tr th {\n",
       "        vertical-align: top;\n",
       "    }\n",
       "\n",
       "    .dataframe thead th {\n",
       "        text-align: right;\n",
       "    }\n",
       "</style>\n",
       "<table border=\"1\" class=\"dataframe\">\n",
       "  <thead>\n",
       "    <tr style=\"text-align: right;\">\n",
       "      <th></th>\n",
       "      <th>text</th>\n",
       "      <th>label</th>\n",
       "    </tr>\n",
       "  </thead>\n",
       "  <tbody>\n",
       "    <tr>\n",
       "      <th>0</th>\n",
       "      <td>really rocktheir gluten free classic combogene...</td>\n",
       "      <td>1</td>\n",
       "    </tr>\n",
       "    <tr>\n",
       "      <th>1</th>\n",
       "      <td>car use main mean transportation pong time cou...</td>\n",
       "      <td>0</td>\n",
       "    </tr>\n",
       "    <tr>\n",
       "      <th>2</th>\n",
       "      <td>dear mrs \\n\\n\\n\\n think go first policy first ...</td>\n",
       "      <td>1</td>\n",
       "    </tr>\n",
       "    <tr>\n",
       "      <th>3</th>\n",
       "      <td>ever force something not want well principal o...</td>\n",
       "      <td>0</td>\n",
       "    </tr>\n",
       "    <tr>\n",
       "      <th>4</th>\n",
       "      <td>state senator electoral college complex proces...</td>\n",
       "      <td>0</td>\n",
       "    </tr>\n",
       "    <tr>\n",
       "      <th>...</th>\n",
       "      <td>...</td>\n",
       "      <td>...</td>\n",
       "    </tr>\n",
       "    <tr>\n",
       "      <th>199995</th>\n",
       "      <td>light car usage cause drop amount pollution   ...</td>\n",
       "      <td>1</td>\n",
       "    </tr>\n",
       "    <tr>\n",
       "      <th>199996</th>\n",
       "      <td>wolrd war ii cheapen know tom brokaw secondrat...</td>\n",
       "      <td>1</td>\n",
       "    </tr>\n",
       "    <tr>\n",
       "      <th>199997</th>\n",
       "      <td>one good restaurant every thing use recipe sup...</td>\n",
       "      <td>1</td>\n",
       "    </tr>\n",
       "    <tr>\n",
       "      <th>199998</th>\n",
       "      <td>great earring price can not beat earring price...</td>\n",
       "      <td>1</td>\n",
       "    </tr>\n",
       "    <tr>\n",
       "      <th>199999</th>\n",
       "      <td>okso conceptually place trapping blow away    ...</td>\n",
       "      <td>1</td>\n",
       "    </tr>\n",
       "  </tbody>\n",
       "</table>\n",
       "<p>200000 rows × 2 columns</p>\n",
       "</div>"
      ],
      "text/plain": [
       "                                                     text  label\n",
       "0       really rocktheir gluten free classic combogene...      1\n",
       "1       car use main mean transportation pong time cou...      0\n",
       "2       dear mrs \\n\\n\\n\\n think go first policy first ...      1\n",
       "3       ever force something not want well principal o...      0\n",
       "4       state senator electoral college complex proces...      0\n",
       "...                                                   ...    ...\n",
       "199995  light car usage cause drop amount pollution   ...      1\n",
       "199996  wolrd war ii cheapen know tom brokaw secondrat...      1\n",
       "199997  one good restaurant every thing use recipe sup...      1\n",
       "199998  great earring price can not beat earring price...      1\n",
       "199999  okso conceptually place trapping blow away    ...      1\n",
       "\n",
       "[200000 rows x 2 columns]"
      ]
     },
     "execution_count": 12,
     "metadata": {},
     "output_type": "execute_result"
    }
   ],
   "source": [
    "df"
   ]
  },
  {
   "cell_type": "code",
   "execution_count": null,
   "id": "ae88bbad",
   "metadata": {
    "id": "ae88bbad",
    "outputId": "561f8275-83d4-4c9b-aa26-f1bcb1522e43",
    "scrolled": true
   },
   "outputs": [
    {
     "name": "stdout",
     "output_type": "stream",
     "text": [
      "text     string\n",
      "label     int64\n",
      "dtype: object\n"
     ]
    }
   ],
   "source": [
    "\n",
    "df[\"text\"] = df[\"text\"].astype(\"string\")\n",
    "print(df.dtypes)\n"
   ]
  },
  {
   "cell_type": "markdown",
   "id": "69e3bb65",
   "metadata": {},
   "source": [
    "Sampling data into 50000 records fror our analysis."
   ]
  },
  {
   "cell_type": "code",
   "execution_count": null,
   "id": "034096d3",
   "metadata": {
    "id": "034096d3"
   },
   "outputs": [],
   "source": [
    "df= df.sample(n=50000, random_state=42)"
   ]
  },
  {
   "cell_type": "code",
   "execution_count": null,
   "id": "2ff04f85",
   "metadata": {
    "id": "2ff04f85",
    "outputId": "f50efb2a-1cd0-4cf0-814b-5ee94cd94b46"
   },
   "outputs": [
    {
     "data": {
      "text/plain": [
       "0    25184\n",
       "1    24816\n",
       "Name: label, dtype: int64"
      ]
     },
     "execution_count": 15,
     "metadata": {},
     "output_type": "execute_result"
    }
   ],
   "source": [
    "df[\"label\"].value_counts()"
   ]
  },
  {
   "cell_type": "code",
   "execution_count": null,
   "id": "24b9483c",
   "metadata": {
    "id": "24b9483c"
   },
   "outputs": [],
   "source": [
    "df.to_csv(\"df.csv\", index=False)"
   ]
  },
  {
   "cell_type": "code",
   "execution_count": null,
   "id": "864752e5",
   "metadata": {
    "id": "864752e5",
    "outputId": "3e4cf852-01b4-4f36-f503-ad32a833f5ac"
   },
   "outputs": [
    {
     "data": {
      "text/plain": [
       "(50000, 2)"
      ]
     },
     "execution_count": 19,
     "metadata": {},
     "output_type": "execute_result"
    }
   ],
   "source": [
    "df.shape"
   ]
  },
  {
   "cell_type": "code",
   "execution_count": null,
   "id": "c3d8dbd4",
   "metadata": {
    "id": "c3d8dbd4"
   },
   "outputs": [],
   "source": [
    "df_sample = df.sample(n=500,random_state=42)\n",
    "df_sample.to_csv(\"sample_data_for_analysis.csv\")"
   ]
  }
 ],
 "metadata": {
  "colab": {
   "provenance": []
  },
  "kernelspec": {
   "display_name": "Python 3 (ipykernel)",
   "language": "python",
   "name": "python3"
  },
  "language_info": {
   "codemirror_mode": {
    "name": "ipython",
    "version": 3
   },
   "file_extension": ".py",
   "mimetype": "text/x-python",
   "name": "python",
   "nbconvert_exporter": "python",
   "pygments_lexer": "ipython3",
   "version": "3.11.5"
  }
 },
 "nbformat": 4,
 "nbformat_minor": 5
}
